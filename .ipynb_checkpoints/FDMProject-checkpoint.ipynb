{
 "cells": [
  {
   "cell_type": "code",
   "execution_count": null,
   "id": "6cb890e2-1d52-4e6b-9737-8fe1776b1ae5",
   "metadata": {},
   "outputs": [],
   "source": [
    "import pandas as pd\n",
    "import numpy as np\n",
    "import matplotlib.pyplot as plt\n",
    "import seaborn as sns\n",
    "from sklearn.model_selection import train_test_split, GridSearchCV\n",
    "from sklearn.preprocessing import LabelEncoder, StandardScaler\n",
    "from sklearn.ensemble import RandomForestClassifier\n",
    "from sklearn.metrics import classification_report, confusion_matrix, accuracy_score, roc_auc_score, roc_curve\n",
    "from imblearn.over_sampling import SMOTE"
   ]
  },
  {
   "cell_type": "code",
   "execution_count": null,
   "id": "a4890449-a0ff-4f15-96d4-53a55412745b",
   "metadata": {},
   "outputs": [],
   "source": []
  },
  {
   "cell_type": "code",
   "execution_count": null,
   "id": "ad42cc45-2055-4569-865c-a2cd1ce2e6d7",
   "metadata": {},
   "outputs": [],
   "source": [
    "# 2. Preprocessing\n",
    "# Drop ID column (non-predictive)\n",
    "if \"LoanID\" in data.columns:\n",
    "    data = data.drop(\"LoanID\", axis=1)\n",
    "data = data.drop_duplicates().dropna()"
   ]
  },
  {
   "cell_type": "code",
   "execution_count": null,
   "id": "83898f60-7152-4590-a70e-74210e97200b",
   "metadata": {},
   "outputs": [],
   "source": [
    "# Define target and features\n",
    "target_column = \"Default\"\n",
    "X = data.drop(target_column, axis=1)\n",
    "y = data[target_column]\n"
   ]
  },
  {
   "cell_type": "code",
   "execution_count": null,
   "id": "705ab8e0-2333-46a5-bdd3-793037cfaec3",
   "metadata": {},
   "outputs": [],
   "source": [
    "# Encode categorical features\n",
    "label_encoders = {}\n",
    "for col in data.select_dtypes(include=['object']).columns:\n",
    "    le = LabelEncoder()\n",
    "    data[col] = le.fit_transform(data[col])\n",
    "    label_encoders[col] = le"
   ]
  },
  {
   "cell_type": "code",
   "execution_count": null,
   "id": "c8e90d1b-2b97-4dab-964f-8076e00f573e",
   "metadata": {},
   "outputs": [],
   "source": [
    "# Scale features\n",
    "scaler = StandardScaler()\n",
    "X_scaled = scaler.fit_transform(X)\n",
    ".9)]"
   ]
  },
  {
   "cell_type": "code",
   "execution_count": null,
   "id": "aea9a095-9cf7-4c45-95d7-a4d37c2b8060",
   "metadata": {},
   "outputs": [],
   "source": [
    "# Train-test split\n",
    "X_train, X_test, y_train, y_test = train_test_split(\n",
    "    X_scaled, y, test_size=0.2, random_state=42, stratify=y\n",
    ")\n",
    "\n"
   ]
  },
  {
   "cell_type": "code",
   "execution_count": null,
   "id": "a9b6ec7b-1477-4760-8656-4b85f63253ae",
   "metadata": {},
   "outputs": [],
   "source": [
    "# 3. Baseline Random Forest\n",
    "# -----------------------------\n",
    "rf = RandomForestClassifier(random_state=42)\n",
    "rf.fit(X_train, y_train)\n",
    "y_pred = rf.predict(X_test)\n",
    "y_pred_proba = rf.predict_proba(X_test)[:, 1]\n",
    "\n",
    "print(\"\\n Baseline Random Forest\")\n",
    "print(\"Accuracy:\", accuracy_score(y_test, y_pred))\n",
    "print(\"ROC-AUC:\", roc_auc_score(y_test, y_pred_proba))\n",
    "print(classification_report(y_test, y_pred))"
   ]
  },
  {
   "cell_type": "code",
   "execution_count": null,
   "id": "7e12ead3-3cdc-4f96-974e-2e9d7feb40e6",
   "metadata": {},
   "outputs": [],
   "source": [
    "# 4. Random Forest with Class Weights\n",
    "# -----------------------------\n",
    "rf_balanced = RandomForestClassifier(random_state=42, class_weight=\"balanced\")\n",
    "rf_balanced.fit(X_train, y_train)\n",
    "y_pred_balanced = rf_balanced.predict(X_test)\n",
    "y_pred_proba_balanced = rf_balanced.predict_proba(X_test)[:, 1]\n",
    "\n",
    "print(\"\\n🔹 Random Forest (Class Weight Balanced)\")\n",
    "print(\"Accuracy:\", accuracy_score(y_test, y_pred_balanced))\n",
    "print(\"ROC-AUC:\", roc_auc_score(y_test, y_pred_proba_balanced))\n",
    "print(classification_report(y_test, y_pred_balanced))"
   ]
  },
  {
   "cell_type": "code",
   "execution_count": null,
   "id": "424eba32-6468-45f0-8d0e-b8142fdf8191",
   "metadata": {},
   "outputs": [],
   "source": [
    "# 5. Random Forest with SMOTE\n",
    "# -----------------------------\n",
    "smote = SMOTE(random_state=42)\n",
    "X_train_smote, y_train_smote = smote.fit_resample(X_train, y_train)\n",
    "\n",
    "rf_smote = RandomForestClassifier(random_state=42)\n",
    "rf_smote.fit(X_train_smote, y_train_smote)\n",
    "y_pred_smote = rf_smote.predict(X_test)\n",
    "y_pred_proba_smote = rf_smote.predict_proba(X_test)[:, 1]\n",
    "\n",
    "print(\"\\n🔹 Random Forest (SMOTE Oversampling)\")\n",
    "print(\"Accuracy:\", accuracy_score(y_test, y_pred_smote))\n",
    "print(\"ROC-AUC:\", roc_auc_score(y_test, y_pred_proba_smo"
   ]
  },
  {
   "cell_type": "code",
   "execution_count": null,
   "id": "25e91f79-eed5-42cd-bdc6-518589093735",
   "metadata": {},
   "outputs": [],
   "source": [
    "# 6. Confusion Matrices\n",
    "# -----------------------------\n",
    "fig, axes = plt.subplots(1, 3, figsize=(18,5))\n",
    "sns.heatmap(confusion_matrix(y_test, y_pred), annot=True, fmt='d', cmap='Blues', ax=axes[0])\n",
    "axes[0].set_title(\"Baseline RF\")\n",
    "\n",
    "sns.heatmap(confusion_matrix(y_test, y_pred_balanced), annot=True, fmt='d', cmap='Greens', ax=axes[1])\n",
    "axes[1].set_title(\"RF (Class Weight)\")\n",
    "\n",
    "sns.heatmap(confusion_matrix(y_test, y_pred_smote), annot=True, fmt='d', cmap='Oranges', ax=axes[2])\n",
    "axes[2].set_title(\"RF (SMOTE)\")\n",
    "\n",
    "plt.show()"
   ]
  },
  {
   "cell_type": "code",
   "execution_count": null,
   "id": "0258babd-23c4-41f2-8da6-5f89f8925de2",
   "metadata": {},
   "outputs": [],
   "source": [
    "# 7. ROC Curves\n",
    "# -----------------------------\n",
    "fpr, tpr, _ = roc_curve(y_test, y_pred_proba)\n",
    "fpr_b, tpr_b, _ = roc_curve(y_test, y_pred_proba_balanced)\n",
    "fpr_s, tpr_s, _ = roc_curve(y_test, y_pred_proba_smote)\n",
    "\n",
    "plt.figure(figsize=(8,6))\n",
    "plt.plot(fpr, tpr, label=\"Baseline RF\")\n",
    "plt.plot(fpr_b, tpr_b, label=\"RF (Class Weight)\")\n",
    "plt.plot(fpr_s, tpr_s, label=\"RF (SMOTE)\")\n",
    "plt.plot([0,1],[0,1],'k--')\n",
    "plt.xlabel(\"False Positive Rate\")\n",
    "plt.ylabel(\"True Positive Rate\")\n",
    "plt.title(\"ROC Curve Comparison\")\n",
    "plt.legend()\n",
    "plt.show()"
   ]
  },
  {
   "cell_type": "code",
   "execution_count": null,
   "id": "8aac5a41-8557-4590-b1d7-1088ecae3b07",
   "metadata": {},
   "outputs": [],
   "source": [
    "# 8. Feature Importance (using best SMOTE model)\n",
    "# -----------------------------\n",
    "importances = rf_smote.feature_importances_\n",
    "indices = np.argsort(importances)[::-1]\n",
    "plt.figure(figsize=(10,6))\n",
    "plt.title(\"Feature Importances - RF with SMOTE\")\n",
    "sns.barplot(x=importances[indices], y=X.columns[indices])\n",
    "plt.show()\n"
   ]
  },
  {
   "cell_type": "code",
   "execution_count": null,
   "id": "3bec900a-212c-4629-84ef-f4ff20dd5bb0",
   "metadata": {},
   "outputs": [],
   "source": [
    "# 9. Hyperparameter Tuning (on SMOTE data)\n",
    "# -----------------------------\n",
    "#param_grid = {\n",
    "    #'n_estimators': [100, 200],\n",
    "    #'max_depth': [None, 10, 20],\n",
    "    #'min_samples_split': [2, 5],\n",
    "    #'min_samples_leaf': [1, 2]\n",
    "#}\n",
    "#grid = GridSearchCV(RandomForestClassifier(random_state=42), param_grid, cv=3, scoring='roc_auc', n_jobs=-1)\n",
    "#grid.fit(X_train_smote, y_train_smote)\n",
    "\n",
    "#print(\"\\nBest Parameters (RF with SMOTE):\", grid.best_params_)\n",
    "#print(\"Best CV ROC-AUC:\", grid.best_score_)\n"
   ]
  },
  {
   "cell_type": "code",
   "execution_count": null,
   "id": "35a395a5-b8e4-4faf-b7a7-3d0d630dd697",
   "metadata": {},
   "outputs": [],
   "source": [
    "# Save DataFrame to CSV\n",
    "data.to_csv(\"KGpreprocessed_data.csv\", index=False)"
   ]
  },
  {
   "cell_type": "code",
   "execution_count": null,
   "id": "7953b86e-4197-4087-990a-730b2b6f5e83",
   "metadata": {},
   "outputs": [],
   "source": [
    "import joblib, os\n",
    "\n",
    "# Create folder again\n",
    "os.makedirs(\"model_artifacts\", exist_ok=True)\n",
    "\n",
    "# Save model and preprocessing objects correctly\n",
    "joblib.dump(rf_smote, \"model_artifacts/loan_rf_model.pkl\")\n",
    "joblib.dump(scaler, \"model_artifacts/scaler.pkl\")\n",
    "joblib.dump(label_encoders, \"model_artifacts/label_encoders.pkl\")\n",
    "joblib.dump(list(X.columns), \"model_artifacts/features.pkl\")\n",
    "\n",
    "print(\"✅ Model and artifacts saved successfully!\")"
   ]
  },
  {
   "cell_type": "code",
   "execution_count": null,
   "id": "26d5b47c-61be-49be-a517-d700c0ab62ef",
   "metadata": {},
   "outputs": [],
   "source": []
  }
 ],
 "metadata": {
  "kernelspec": {
   "display_name": "Python 3 (ipykernel)",
   "language": "python",
   "name": "python3"
  },
  "language_info": {
   "codemirror_mode": {
    "name": "ipython",
    "version": 3
   },
   "file_extension": ".py",
   "mimetype": "text/x-python",
   "name": "python",
   "nbconvert_exporter": "python",
   "pygments_lexer": "ipython3",
   "version": "3.12.7"
  }
 },
 "nbformat": 4,
 "nbformat_minor": 5
}
